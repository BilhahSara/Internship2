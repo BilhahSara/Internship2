{
 "cells": [
  {
   "cell_type": "code",
   "execution_count": 1,
   "id": "7d0903f5-ed2c-47bc-b19e-4821e275d1cb",
   "metadata": {},
   "outputs": [],
   "source": [
    "import numpy as np"
   ]
  },
  {
   "cell_type": "code",
   "execution_count": 13,
   "id": "9fc28dd5-e364-4da8-b219-e20626cb4db7",
   "metadata": {},
   "outputs": [],
   "source": [
    "a=np.array([[10,12,14,16,18],[20,22,24,26,28],[30,32,34,36,38],[40,42,44,46,48],[50,47,45,43,41]])"
   ]
  },
  {
   "cell_type": "code",
   "execution_count": 15,
   "id": "85f45e5e-8130-474b-91a9-e40222f9c55b",
   "metadata": {},
   "outputs": [
    {
     "data": {
      "text/plain": [
       "(5, 5)"
      ]
     },
     "execution_count": 15,
     "metadata": {},
     "output_type": "execute_result"
    }
   ],
   "source": [
    "a.shape"
   ]
  },
  {
   "cell_type": "code",
   "execution_count": 30,
   "id": "1e83f556-a9db-4af8-afb6-bcb948ded3f1",
   "metadata": {},
   "outputs": [],
   "source": [
    "a[a> 30] = -1"
   ]
  },
  {
   "cell_type": "code",
   "execution_count": 31,
   "id": "62ffc92f-2987-4e08-96ae-acb34325e41a",
   "metadata": {},
   "outputs": [
    {
     "name": "stdout",
     "output_type": "stream",
     "text": [
      "[[10 12 14 16 18]\n",
      " [20 22 24 26 28]\n",
      " [30 -1 -1 -1 -1]\n",
      " [-1 -1 -1 -1 -1]\n",
      " [-1 -1 -1 -1 -1]]\n"
     ]
    }
   ],
   "source": [
    "print(a)"
   ]
  },
  {
   "cell_type": "code",
   "execution_count": 35,
   "id": "c3e9236e-dbe9-4201-a1ee-fda664983a8b",
   "metadata": {},
   "outputs": [],
   "source": [
    "b=np.array([[1,2,3,4],[5,6,7,8],[9,10,11,12],[13,14,15,16]])"
   ]
  },
  {
   "cell_type": "code",
   "execution_count": 36,
   "id": "7877fac1-d171-4421-86ab-b1a4e365f1d8",
   "metadata": {},
   "outputs": [
    {
     "data": {
      "text/plain": [
       "2"
      ]
     },
     "execution_count": 36,
     "metadata": {},
     "output_type": "execute_result"
    }
   ],
   "source": [
    "b.ndim"
   ]
  },
  {
   "cell_type": "code",
   "execution_count": 37,
   "id": "3e29c1c0-1ca9-45f0-b936-fed9310d1e61",
   "metadata": {},
   "outputs": [
    {
     "data": {
      "text/plain": [
       "(4, 4)"
      ]
     },
     "execution_count": 37,
     "metadata": {},
     "output_type": "execute_result"
    }
   ],
   "source": [
    "b.shape"
   ]
  },
  {
   "cell_type": "code",
   "execution_count": 38,
   "id": "b0f1c3d8-03d9-485e-b8b9-87aca265e905",
   "metadata": {
    "jupyter": {
     "source_hidden": true
    }
   },
   "outputs": [
    {
     "name": "stdout",
     "output_type": "stream",
     "text": [
      "<class 'numpy.ndarray'>\n"
     ]
    }
   ],
   "source": [
    "print(type(b))"
   ]
  },
  {
   "cell_type": "code",
   "execution_count": 6,
   "id": "300354ed-5a25-45bc-b3f5-382625c7096e",
   "metadata": {},
   "outputs": [],
   "source": [
    "import pandas as pd"
   ]
  },
  {
   "cell_type": "code",
   "execution_count": 7,
   "id": "a3295e5c-35b8-421a-93d3-d78ab1cb90c8",
   "metadata": {},
   "outputs": [],
   "source": [
    "a=pd.Series([10,20,30,40,50])"
   ]
  },
  {
   "cell_type": "code",
   "execution_count": 9,
   "id": "19409da4-0dc5-470c-a9bb-c65eb1bb88ac",
   "metadata": {},
   "outputs": [
    {
     "name": "stdout",
     "output_type": "stream",
     "text": [
      "<class 'pandas.core.series.Series'>\n"
     ]
    }
   ],
   "source": [
    "print(type(a))"
   ]
  },
  {
   "cell_type": "code",
   "execution_count": 24,
   "id": "7985d3ad-4f25-46c9-b5ff-2ac10ee797e2",
   "metadata": {},
   "outputs": [],
   "source": [
    "df=pd.read_csv('sales.csv')"
   ]
  },
  {
   "cell_type": "code",
   "execution_count": 25,
   "id": "3ac645a8-3371-4ef7-8dac-fee6425c161d",
   "metadata": {},
   "outputs": [
    {
     "name": "stdout",
     "output_type": "stream",
     "text": [
      "   OrderID       Product  Quantity  Price  Revenue        Date Region\n",
      "0      101  Mobile Phone         2    500     1000  2025-07-01  North\n",
      "1      102        Laptop         1   1200     1200  2025-07-01  South\n",
      "2      103    Headphones         5     50      250  2025-07-02   East\n",
      "3      104        Tablet         3    300      900  2025-07-03   West\n",
      "4      105   Smart Watch         4    200      800  2025-07-03  North\n",
      "5      106        Camera         2    800     1600  2025-07-04  South\n",
      "6      107      Keyboard         6     40      240  2025-07-04   East\n",
      "7      108       Monitor         2    150      300  2025-07-05   West\n",
      "8      109       Printer         1    250      250  2025-07-05  North\n",
      "9      110         Mouse        10     20      200  2025-07-06  South\n"
     ]
    }
   ],
   "source": [
    "print(df.head(10))"
   ]
  },
  {
   "cell_type": "code",
   "execution_count": 29,
   "id": "304284ce-980d-47c6-a8f0-010419bda6e1",
   "metadata": {},
   "outputs": [
    {
     "name": "stdout",
     "output_type": "stream",
     "text": [
      "    OrderID       Product  Quantity  Price  Revenue        Date Region\n",
      "11      112       Charger         8     15      120  2025-07-07   West\n",
      "9       110         Mouse        10     20      200  2025-07-06  South\n",
      "10      111      Speakers         3     70      210  2025-07-06   East\n",
      "6       107      Keyboard         6     40      240  2025-07-04   East\n",
      "8       109       Printer         1    250      250  2025-07-05  North\n",
      "2       103    Headphones         5     50      250  2025-07-02   East\n",
      "7       108       Monitor         2    150      300  2025-07-05   West\n",
      "4       105   Smart Watch         4    200      800  2025-07-03  North\n",
      "3       104        Tablet         3    300      900  2025-07-03   West\n",
      "0       101  Mobile Phone         2    500     1000  2025-07-01  North\n",
      "1       102        Laptop         1   1200     1200  2025-07-01  South\n",
      "5       106        Camera         2    800     1600  2025-07-04  South\n"
     ]
    }
   ],
   "source": [
    "print(df.sort_values(by='Revenue')) #sorting"
   ]
  },
  {
   "cell_type": "code",
   "execution_count": 57,
   "id": "4f50cb48-43af-41d4-8a5a-3a8063b0efec",
   "metadata": {},
   "outputs": [],
   "source": [
    "data={'Name':['Alice','Bob','Kevin','Bilha','Aneesa'],'Department':['Sales','Marketing','Hardware','Software','Programming'],'Salary':[10000,20000,30000,40000,50000],'Age':[21,22,24,23,22]}"
   ]
  },
  {
   "cell_type": "code",
   "execution_count": 67,
   "id": "258cbcf6-7dac-4cc7-8ffe-4349b66b055c",
   "metadata": {},
   "outputs": [],
   "source": [
    "g=pd.DataFrame(data)"
   ]
  },
  {
   "cell_type": "code",
   "execution_count": 69,
   "id": "0dc35376-b7f8-495d-8357-1a8b963c28f1",
   "metadata": {},
   "outputs": [],
   "source": [
    "g=pd.read_csv('Salaries.csv')"
   ]
  },
  {
   "cell_type": "code",
   "execution_count": 70,
   "id": "aa918f3d-e8b2-4e11-b94a-1cc5658e67b3",
   "metadata": {},
   "outputs": [],
   "source": [
    "g.rename(columns={'Name':'Full Name'},inplace=True) "
   ]
  },
  {
   "cell_type": "code",
   "execution_count": null,
   "id": "be90d867-d406-40ff-941e-ebc93d370721",
   "metadata": {},
   "outputs": [],
   "source": [
    "g.to_csv('Sa"
   ]
  }
 ],
 "metadata": {
  "kernelspec": {
   "display_name": "Python 3 (ipykernel)",
   "language": "python",
   "name": "python3"
  },
  "language_info": {
   "codemirror_mode": {
    "name": "ipython",
    "version": 3
   },
   "file_extension": ".py",
   "mimetype": "text/x-python",
   "name": "python",
   "nbconvert_exporter": "python",
   "pygments_lexer": "ipython3",
   "version": "3.12.3"
  }
 },
 "nbformat": 4,
 "nbformat_minor": 5
}
